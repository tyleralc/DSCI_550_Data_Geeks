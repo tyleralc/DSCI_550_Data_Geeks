{
  "nbformat": 4,
  "nbformat_minor": 0,
  "metadata": {
    "colab": {
      "name": "Problem4.ipynb",
      "provenance": [],
      "collapsed_sections": [],
      "include_colab_link": true
    },
    "kernelspec": {
      "name": "python3",
      "display_name": "Python 3"
    },
    "language_info": {
      "name": "python"
    }
  },
  "cells": [
    {
      "cell_type": "markdown",
      "metadata": {
        "id": "view-in-github",
        "colab_type": "text"
      },
      "source": [
        "<a href=\"https://colab.research.google.com/github/tyleralc/DSCI_550_Data_Geeks/blob/main/Problem4.ipynb\" target=\"_parent\"><img src=\"https://colab.research.google.com/assets/colab-badge.svg\" alt=\"Open In Colab\"/></a>"
      ]
    },
    {
      "cell_type": "code",
      "source": [
        "import pandas as pd\n",
        "from bs4 import BeautifulSoup\n",
        "import requests\n",
        "from googlesearch import search\n",
        "import time\n",
        "import math"
      ],
      "metadata": {
        "id": "RvT83Gl-FDXX"
      },
      "execution_count": null,
      "outputs": []
    },
    {
      "cell_type": "code",
      "execution_count": null,
      "metadata": {
        "id": "vj6a6_FGKSjS"
      },
      "outputs": [],
      "source": [
        "\n",
        "# PLOS\n",
        "def plos_one(journal_id):\n",
        "  if 'pone' in journal_id:\n",
        "    link = 'https://journals.plos.org/plosone/article?id=' + journal_id\n",
        "  if 'pbio' in journal_id:\n",
        "    link = 'https://journals.plos.org/plosbiology/article?id=' + journal_id\n",
        "  if 'pgen' in journal_id:\n",
        "    link = 'https://journals.plos.org/plosgenetics/article?id=' + journal_id\n",
        "  if 'ppat' in journal_id:\n",
        "    link = 'https://journals.plos.org/plospathogens/article?id=' + journal_id\n",
        "  if 'pntd' in journal_id:\n",
        "    link = 'https://journals.plos.org/plosntds/article?id=' + journal_id\n",
        "  content = requests.get(link)\n",
        "  soup = BeautifulSoup(content.content, 'html.parser')\n",
        "  # author_names = list()\n",
        "  affiliate_universities = list()\n",
        "  #for link in soup.find_all('meta', {'name': 'citation_author'}):\n",
        "  #  author_names.append(link['content'])\n",
        "  for link in soup.find_all('meta', {'name': 'citation_author_institution'}):\n",
        "    affiliate_universities.append(link['content'])\n",
        "  return affiliate_universities\n",
        "\n",
        "#MBIO\n",
        "def mBio(journal_id):\n",
        "  link = 'https://journals.asm.org/doi/' + journal_id\n",
        "  content = requests.get(link)\n",
        "  soup = BeautifulSoup(content.content, 'html.parser')\n",
        "  print(soup)\n",
        "  affiliate_universities = list()\n",
        "#  for link in soup.find_all('meta', {'name': 'citation_author_institution'}):\n",
        "#    affiliate_universities.append(link['content'])\n",
        "#  return affiliate_universities\n",
        "\n",
        "affiliate_university = list()\n",
        "\n",
        "for i in range(48):\n",
        "  print(i)\n",
        "  all_affiliate_unversities = plos_one(journal_link[i])\n",
        "  affiliate_university.append(all_affiliate_unversities[0])\n",
        "\n",
        "print(affiliate_university)\n",
        "print(len(affiliate_university))\n"
      ]
    },
    {
      "cell_type": "code",
      "source": [
        "#dataframe\n",
        "# encoding = \"ISO-8859-1\"\n",
        "df = pd.read_csv(\"Bik dataset - papers with endpoint reached.tsv\", sep='\\t',encoding = 'utf-8')\n",
        "journal_link = df['DOI']\n",
        "all_authors = df['Authors'].tolist()\n",
        "print(len(all_authors))\n"
      ],
      "metadata": {
        "colab": {
          "base_uri": "https://localhost:8080/"
        },
        "id": "e7EjlochXUTo",
        "outputId": "8530e76e-ec1f-4fc7-a44d-aa657891e97f"
      },
      "execution_count": null,
      "outputs": [
        {
          "output_type": "stream",
          "name": "stdout",
          "text": [
            "214\n"
          ]
        }
      ]
    },
    {
      "cell_type": "code",
      "source": [
        "#Pubmed (publication rate, duration of career, other journals publisehd)\n",
        "#output total publications\n",
        "def pubmed_results(url):\n",
        "  pub = ''\n",
        "  content = requests.get(url)\n",
        "  soup = BeautifulSoup(content.content, 'html.parser')\n",
        "  #print(soup)\n",
        "  for link in soup.find_all('meta', {'name': 'log_resultcount'}):\n",
        "    pub = link['content']\n",
        "  return pub\n",
        "\n",
        "#output years paper were published\n",
        "def pubmed_year(url):\n",
        "  year = []\n",
        "  content = requests.get(url)\n",
        "  soup = BeautifulSoup(content.content, 'html.parser')\n",
        "  #print(soup)\n",
        "  for link in soup.find_all('span', {'class': 'docsum-journal-citation short-journal-citation'}):\n",
        "    year.append(link.get_text()[-5:-1])\n",
        "  return year\n",
        "\n",
        "duration_career = []\n",
        "pub_rate = []\n",
        "i = 0\n",
        "for i in range(5):\n",
        "  #pub_total = []\n",
        "  #pub = []\n",
        "  temp_authors = all_authors[i].split(', ')\n",
        "  dur = []\n",
        "  rate = []\n",
        "  for j in range(len(temp_authors)):\n",
        "    pub_year = []\n",
        "    temp_journals = []\n",
        "    link = 'https://pubmed.ncbi.nlm.nih.gov/?term='\n",
        "    for k in range(len(temp_authors[j].split(' '))):\n",
        "      link = link + temp_authors[j].split(' ')[k] + '%20'\n",
        "    link = link[:-3]\n",
        "    pub_year = pubmed_year(link)\n",
        "    pub_num = pubmed_results(link)\n",
        "    #pub.append(pub_num)\n",
        "    if pub_num == '':\n",
        "      pub_num = 1\n",
        "    if int(pub_num) > 200:\n",
        "      pub_num = 200\n",
        "    for k in range(1,math.ceil(float(pub_num)/10)):\n",
        "      page_link = link + '&page=' + str(k+1)\n",
        "      pub_year = pub_year + pubmed_year(page_link)\n",
        "    #dur.append(str(int(max(pub_year)) - int(min(pub_year))))\n",
        "    if j == 0:\n",
        "      dur = int(max(pub_year)) - int(min(pub_year))\n",
        "    temp_rate = round(float(pub_num)/(float(max(pub_year)) - float(min(pub_year))),2)\n",
        "    rate.append(temp_rate)\n",
        "  #pub_total.append(pub)\n",
        "  duration_career.append(dur)\n",
        "  pub_rate.append(rate)\n",
        "  #print(pub_total)\n",
        "  print(i)\n",
        "  print(duration_career)\n",
        "  print(pub_rate)\n"
      ],
      "metadata": {
        "colab": {
          "base_uri": "https://localhost:8080/"
        },
        "id": "ykgqOF5N50Oj",
        "outputId": "361c614c-1a25-491d-d410-7b24e1958c43"
      },
      "execution_count": null,
      "outputs": [
        {
          "output_type": "stream",
          "name": "stdout",
          "text": [
            "0\n",
            "[3]\n",
            "[[1.0, 1.0, 0.95]]\n",
            "1\n",
            "[3, 11]\n",
            "[[1.0, 1.0, 0.95], [0.45, 0.28, 1.0, 3.2, 1.1, 0.91, 3.9]]\n",
            "2\n",
            "[3, 11, 14]\n",
            "[[1.0, 1.0, 0.95], [0.45, 0.28, 1.0, 3.2, 1.1, 0.91, 3.9], [1.14, 11.76, 5.42, 8.33, 1.15, 0.94]]\n",
            "3\n",
            "[3, 11, 14, 19]\n",
            "[[1.0, 1.0, 0.95], [0.45, 0.28, 1.0, 3.2, 1.1, 0.91, 3.9], [1.14, 11.76, 5.42, 8.33, 1.15, 0.94], [0.79, 1.07, 1.27, 1.67]]\n",
            "4\n",
            "[3, 11, 14, 19, 19]\n",
            "[[1.0, 1.0, 0.95], [0.45, 0.28, 1.0, 3.2, 1.1, 0.91, 3.9], [1.14, 11.76, 5.42, 8.33, 1.15, 0.94], [0.79, 1.07, 1.27, 1.67], [2.05, 18.18, 0.06, 33.33, 11.11, 0.8, 3.89]]\n"
          ]
        }
      ]
    },
    {
      "cell_type": "code",
      "source": [
        "#get first 3 unique journals from first page\n",
        "def pubmed_journals(url):\n",
        "  journals = []\n",
        "  content = requests.get(url)\n",
        "  soup = BeautifulSoup(content.content, 'html.parser')\n",
        "  for link in soup.find_all('span', {'class': 'docsum-journal-citation short-journal-citation'}):\n",
        "    entry = link.get_text().split('.')[0]\n",
        "    if entry not in journals:\n",
        "      journals.append(entry)\n",
        "  return journals[0:3]\n",
        "\n",
        "\n",
        "other_journals = []\n",
        "for i in range(len(all_authors)):\n",
        "  temp_authors = all_authors[i].split(', ')\n",
        "  pub_journals = []\n",
        "  for j in range(len(temp_authors)):\n",
        "    temp_journals = []\n",
        "    link = 'https://pubmed.ncbi.nlm.nih.gov/?term='\n",
        "    for k in range(len(temp_authors[j].split(' '))):\n",
        "      link = link + temp_authors[j].split(' ')[k] + '%20'\n",
        "    link = link[:-3]\n",
        "    temp_journals = pubmed_journals(link)\n",
        "    pub_journals.append(temp_journals)\n",
        "  other_journals.append(pub_journals)\n",
        "  print(i)\n",
        "df['Other Journals'] = other_journals\n",
        "print(df)"
      ],
      "metadata": {
        "id": "gquyAeFnZm4I"
      },
      "execution_count": null,
      "outputs": []
    },
    {
      "cell_type": "code",
      "source": [
        "# Creating Excel Writer Object from Pandas  \n",
        "df.to_csv('test.tsv', sep='\\t')   "
      ],
      "metadata": {
        "id": "cy7JU_5_YZkG"
      },
      "execution_count": null,
      "outputs": []
    },
    {
      "cell_type": "markdown",
      "source": [
        "# New Section"
      ],
      "metadata": {
        "id": "ZcJ0oJ0PaCUz"
      }
    },
    {
      "cell_type": "code",
      "source": [
        "#Research Gate \n",
        "def research_gate(url):\n",
        "  content = requests.get(url)\n",
        "  soup = BeautifulSoup(content.content, 'html.parser')\n",
        "  #print(soup)\n",
        "  for link in soup.find_all('h2', {'class': 'nova-legacy-e-text nova-legacy-e-text--size-m nova-legacy-e-text--family-sans-serif nova-legacy-e-text--spacing-none nova-legacy-e-text--color-inherit'}):\n",
        "    txt = link.get_text()\n",
        "    if 'Publications' in txt:\n",
        "      txt = txt.replace('Publications (', '')\n",
        "      publication_num = txt.replace(')','')\n",
        "      return publication_num\n",
        "\n",
        "def research_gate_profile(url):\n",
        "  content = requests.get(url)\n",
        "  soup = BeautifulSoup(content.content, 'html.parser')\n",
        "  #print(soup)\n",
        "  for link in soup.find_all('div', {'data-testid': 'publicProfileStatsPublications'}):\n",
        "    publication_num = link.get_text()\n",
        "    return publication_num\n",
        "\n",
        "for i in range(20):\n",
        "  temp_authors = all_authors[i].split(', ')\n",
        "  pub = ''\n",
        "  for j in range(len(temp_authors)):\n",
        "    link = ''\n",
        "    query = temp_authors[j] + ' Research Gate'\n",
        "    time.sleep(4)\n",
        "    for k in search(query, stop=5, pause=2):\n",
        "      if 'https://www.researchgate.net/scientific-contributions/' in k:\n",
        "        link = k\n",
        "        print(link)\n",
        "        pub = pub + research_gate(link) + ', '\n",
        "        print(pub)\n",
        "        break\n",
        "      elif 'https://www.researchgate.net/profile/' in k:\n",
        "        link = k\n",
        "        pub = pub + research_gate_profile(link) + ', '\n",
        "        print(pub)\n",
        "        break\n",
        "  pub = pub[:-2]\n",
        "  publication_rate.append(pub)\n",
        "print(publication_rate)"
      ],
      "metadata": {
        "id": "Gk9py1dZ2hrm",
        "colab": {
          "base_uri": "https://localhost:8080/",
          "height": 258
        },
        "outputId": "0e732cea-535e-47fd-9c9a-30fd6a4b03c1"
      },
      "execution_count": null,
      "outputs": [
        {
          "output_type": "stream",
          "name": "stdout",
          "text": [
            "https://www.researchgate.net/scientific-contributions/Inka-Regine-Weingaertner-2004447803\n"
          ]
        },
        {
          "output_type": "error",
          "ename": "TypeError",
          "evalue": "ignored",
          "traceback": [
            "\u001b[0;31m---------------------------------------------------------------------------\u001b[0m",
            "\u001b[0;31mTypeError\u001b[0m                                 Traceback (most recent call last)",
            "\u001b[0;32m<ipython-input-2-e3c7df1b4f3d>\u001b[0m in \u001b[0;36m<module>\u001b[0;34m()\u001b[0m\n\u001b[1;32m     30\u001b[0m         \u001b[0mlink\u001b[0m \u001b[0;34m=\u001b[0m \u001b[0mk\u001b[0m\u001b[0;34m\u001b[0m\u001b[0;34m\u001b[0m\u001b[0m\n\u001b[1;32m     31\u001b[0m         \u001b[0mprint\u001b[0m\u001b[0;34m(\u001b[0m\u001b[0mlink\u001b[0m\u001b[0;34m)\u001b[0m\u001b[0;34m\u001b[0m\u001b[0;34m\u001b[0m\u001b[0m\n\u001b[0;32m---> 32\u001b[0;31m         \u001b[0mpub\u001b[0m \u001b[0;34m=\u001b[0m \u001b[0mpub\u001b[0m \u001b[0;34m+\u001b[0m \u001b[0mresearch_gate\u001b[0m\u001b[0;34m(\u001b[0m\u001b[0mlink\u001b[0m\u001b[0;34m)\u001b[0m \u001b[0;34m+\u001b[0m \u001b[0;34m', '\u001b[0m\u001b[0;34m\u001b[0m\u001b[0;34m\u001b[0m\u001b[0m\n\u001b[0m\u001b[1;32m     33\u001b[0m         \u001b[0mprint\u001b[0m\u001b[0;34m(\u001b[0m\u001b[0mpub\u001b[0m\u001b[0;34m)\u001b[0m\u001b[0;34m\u001b[0m\u001b[0;34m\u001b[0m\u001b[0m\n\u001b[1;32m     34\u001b[0m         \u001b[0;32mbreak\u001b[0m\u001b[0;34m\u001b[0m\u001b[0;34m\u001b[0m\u001b[0m\n",
            "\u001b[0;31mTypeError\u001b[0m: can only concatenate str (not \"NoneType\") to str"
          ]
        }
      ]
    },
    {
      "cell_type": "code",
      "source": [
        "#Hindawi\n",
        "link = 'https://www.hindawi.com/journals/'+journal_id+'/'\n",
        "content = requests.get(link)\n",
        "soup = BeautifulSoup(content.content, 'html.parser')"
      ],
      "metadata": {
        "id": "uOBoQ0f_11bB"
      },
      "execution_count": null,
      "outputs": []
    },
    {
      "cell_type": "code",
      "source": [
        "#PMID\n",
        "journal_id = journal_link[52].replace('PMID: ', '')\n",
        "link = 'https://pubmed.ncbi.nlm.nih.gov/' + journal_id + '/'\n",
        "content = requests.get(link)\n",
        "soup = BeautifulSoup(content.content, 'html.parser')\n",
        "\n",
        "main=soup('main')\n",
        "for tag in main:\n",
        "  divs=tag.find_all('affiliation-link')\n",
        "print(divs)\n",
        "\n",
        "#also has link of form 10.1111/j.1365-2672.2010.04795.x. ==> https://pubmed.ncbi.nlm.nih.gov/20636343/ (how do we work with this??? there is a DOI on the website)\n",
        "#10.1016/S0169-5002(01)00212-4\n",
        "#10.1016/j.lungcan.2006.06.001\n",
        "#10.1016/j.jaut.2005.09.016 ==> https://pubmed.ncbi.nlm.nih.gov/16271292/\n",
        "#10.1016/j.cyto.2003.11.014\n",
        "#10.1126/science.1156725\n",
        "#10.1038/34214\n",
        "#pubmed has most of the articles it looks like by DOI\n",
        "#10.1038/nature07034\n",
        "#10.1038/onc.2013.184\n",
        "#10.3892/ijo.2012.1714\n",
        "#10.1016/j.ccr.2013.04.019\n",
        "#10.1016/j.ccell.2014.09.008\n"
      ],
      "metadata": {
        "id": "oImeExXnwWqw",
        "colab": {
          "base_uri": "https://localhost:8080/",
          "height": 242
        },
        "outputId": "e78b7c23-266c-4f97-baac-24d83398f549"
      },
      "execution_count": null,
      "outputs": [
        {
          "output_type": "error",
          "ename": "NameError",
          "evalue": "ignored",
          "traceback": [
            "\u001b[0;31m---------------------------------------------------------------------------\u001b[0m",
            "\u001b[0;31mNameError\u001b[0m                                 Traceback (most recent call last)",
            "\u001b[0;32m<ipython-input-1-042226218fdf>\u001b[0m in \u001b[0;36m<module>\u001b[0;34m()\u001b[0m\n\u001b[1;32m      1\u001b[0m \u001b[0;31m#PMID\u001b[0m\u001b[0;34m\u001b[0m\u001b[0;34m\u001b[0m\u001b[0;34m\u001b[0m\u001b[0m\n\u001b[0;32m----> 2\u001b[0;31m \u001b[0mjournal_id\u001b[0m \u001b[0;34m=\u001b[0m \u001b[0mjournal_link\u001b[0m\u001b[0;34m[\u001b[0m\u001b[0;36m52\u001b[0m\u001b[0;34m]\u001b[0m\u001b[0;34m.\u001b[0m\u001b[0mreplace\u001b[0m\u001b[0;34m(\u001b[0m\u001b[0;34m'PMID: '\u001b[0m\u001b[0;34m,\u001b[0m \u001b[0;34m''\u001b[0m\u001b[0;34m)\u001b[0m\u001b[0;34m\u001b[0m\u001b[0;34m\u001b[0m\u001b[0m\n\u001b[0m\u001b[1;32m      3\u001b[0m \u001b[0mlink\u001b[0m \u001b[0;34m=\u001b[0m \u001b[0;34m'https://pubmed.ncbi.nlm.nih.gov/'\u001b[0m \u001b[0;34m+\u001b[0m \u001b[0mjournal_id\u001b[0m \u001b[0;34m+\u001b[0m \u001b[0;34m'/'\u001b[0m\u001b[0;34m\u001b[0m\u001b[0;34m\u001b[0m\u001b[0m\n\u001b[1;32m      4\u001b[0m \u001b[0mcontent\u001b[0m \u001b[0;34m=\u001b[0m \u001b[0mrequests\u001b[0m\u001b[0;34m.\u001b[0m\u001b[0mget\u001b[0m\u001b[0;34m(\u001b[0m\u001b[0mlink\u001b[0m\u001b[0;34m)\u001b[0m\u001b[0;34m\u001b[0m\u001b[0;34m\u001b[0m\u001b[0m\n\u001b[1;32m      5\u001b[0m \u001b[0msoup\u001b[0m \u001b[0;34m=\u001b[0m \u001b[0mBeautifulSoup\u001b[0m\u001b[0;34m(\u001b[0m\u001b[0mcontent\u001b[0m\u001b[0;34m.\u001b[0m\u001b[0mcontent\u001b[0m\u001b[0;34m,\u001b[0m \u001b[0;34m'html.parser'\u001b[0m\u001b[0;34m)\u001b[0m\u001b[0;34m\u001b[0m\u001b[0;34m\u001b[0m\u001b[0m\n",
            "\u001b[0;31mNameError\u001b[0m: name 'journal_link' is not defined"
          ]
        }
      ]
    },
    {
      "cell_type": "code",
      "source": [
        "#Wiley online library\n",
        "link = 'https://onlinelibrary.wiley.com/doi/' + journal_id \n",
        "content = requests.get(link)\n",
        "soup = BeautifulSoup(content.content, 'html.parser')"
      ],
      "metadata": {
        "id": "aEEbVr5b2Hc4"
      },
      "execution_count": null,
      "outputs": []
    },
    {
      "cell_type": "code",
      "source": [
        "#BMC micro biology\n",
        "link = 'https://bmcmicrobiol.biomedcentral.com/articles/' + journal_id\n",
        "content = requests.get(link)\n",
        "soup = BeautifulSoup(content.content, 'html.parser')"
      ],
      "metadata": {
        "id": "4Kw7G49n2cY_"
      },
      "execution_count": null,
      "outputs": []
    },
    {
      "cell_type": "code",
      "source": [
        "#BMC\n",
        "link = 'https://genomebiology.biomedcentral.com/articles/' + journal_id\n",
        "content = requests.get(link)\n",
        "soup = BeautifulSoup(content.content, 'html.parser')\n",
        "\n",
        "#also BMC ==> 10.1186/bcr3128"
      ],
      "metadata": {
        "id": "ixMKWxs7_0z9"
      },
      "execution_count": null,
      "outputs": []
    },
    {
      "cell_type": "code",
      "source": [
        "#10.1083/jcb.201201133\n",
        "#cant find a good link for this one"
      ],
      "metadata": {
        "id": "xl_tJ-_aAGQN"
      },
      "execution_count": null,
      "outputs": []
    },
    {
      "cell_type": "code",
      "source": [
        "#PNAS\n",
        "#10.1073/pnas.1101273108"
      ],
      "metadata": {
        "id": "zhikj2m2B8Az"
      },
      "execution_count": null,
      "outputs": []
    },
    {
      "cell_type": "code",
      "source": [
        "import requests\n",
        "from bs4 import BeautifulSoup\n",
        "\n",
        "response = requests.get('https://pubmed.ncbi.nlm.nih.gov/?term=LPS%20Unmasking%20of%20Shigella%20flexneri%20Reveals%20Preferential%20Localisation%20of%20Tagged%20Outer%20Membrane%20Protease%20IcsP%20to%20Septa%20and%20New%20Poles')\n",
        "soup = BeautifulSoup(response.content, 'html.parser')\n",
        "soup.find_all('li', {\"data-affiliation-id\": \"affiliation-1\"})\n",
        "\n",
        "for text in soup.find_all('li', {\"data-affiliation-id\": \"affiliation-1\"}):\n",
        "  print(text.text)"
      ],
      "metadata": {
        "colab": {
          "base_uri": "https://localhost:8080/"
        },
        "id": "VbsUF9tOYBOe",
        "outputId": "c39e5376-8549-42e0-8c41-16e50d06e560"
      },
      "execution_count": null,
      "outputs": [
        {
          "output_type": "stream",
          "name": "stdout",
          "text": [
            "1 Discipline of Microbiology and Immunology, School of Molecular and Biomedical Science, University of Adelaide, Adelaide, Australia.\n",
            "1 Discipline of Microbiology and Immunology, School of Molecular and Biomedical Science, University of Adelaide, Adelaide, Australia.\n"
          ]
        }
      ]
    },
    {
      "cell_type": "code",
      "source": [
        "import requests\n",
        "from bs4 import BeautifulSoup\n",
        "\n",
        "response = requests.get('https://pubmed.ncbi.nlm.nih.gov/?term=LPS%20Unmasking%20of%20Shigella%20flexneri%20Reveals%20Preferential%20Localisation%20of%20Tagged%20Outer%20Membrane%20Protease%20IcsP%20to%20Septa%20and%20New%20Poles')\n",
        "#put doi after term=\n",
        "soup = BeautifulSoup(response.content, 'html.parser')\n",
        "soup.find_all('li', {\"data-affiliation-id\": \"affiliation-1\"})\n",
        "\n",
        "for text in soup.find_all('li', {\"data-affiliation-id\": \"affiliation-1\"}):\n",
        "  print(text.text[2:])\n",
        "  break"
      ],
      "metadata": {
        "colab": {
          "base_uri": "https://localhost:8080/"
        },
        "id": "yWsTawEnYr_F",
        "outputId": "853cf53e-3e96-4328-8bc6-bc1afef27fe9"
      },
      "execution_count": null,
      "outputs": [
        {
          "output_type": "stream",
          "name": "stdout",
          "text": [
            "Discipline of Microbiology and Immunology, School of Molecular and Biomedical Science, University of Adelaide, Adelaide, Australia.\n"
          ]
        }
      ]
    },
    {
      "cell_type": "code",
      "source": [
        "# Use the article DOI to search pubmed directly"
      ],
      "metadata": {
        "id": "unWASf9xYFx6"
      },
      "execution_count": null,
      "outputs": []
    },
    {
      "cell_type": "code",
      "source": [
        "response=requests.get('https://orcid.org/orcid-search/search?searchQuery=keith%20burghardt')\n",
        "print(response.text)"
      ],
      "metadata": {
        "colab": {
          "base_uri": "https://localhost:8080/"
        },
        "id": "0PQH-C0vdqhm",
        "outputId": "cce55d5c-8568-4b05-ee85-1e84b50ee6a2"
      },
      "execution_count": null,
      "outputs": [
        {
          "output_type": "stream",
          "name": "stdout",
          "text": [
            "<!DOCTYPE html>\n",
            "<html lang=\"en\">\n",
            "  <head>\n",
            "    <meta charset=\"utf-8\"/>\n",
            "    <title>ORCID</title>\n",
            "    <base href=\"/\"/>\n",
            "    <meta name=\"robots\" content=\"all\"/>\n",
            "\n",
            "    <meta name=\"viewport\" content=\"width=device-width, initial-scale=1\"/>\n",
            "    <script src=\"/cdn-cgi/apps/head/N3f49hMwWzdVXaiTaxh9CqyeUQg.js\"></script><link rel=\"icon\" type=\"image/x-icon\" href=\"./assets/icons/favicon.ico\"/>\n",
            "    <style type=\"text/css\">@font-face{font-family:'Material Icons';font-style:normal;font-weight:400;src:url(https://fonts.gstatic.com/s/materialicons/v125/flUhRq6tzZclQEJ-Vdg-IuiaDsNa.woff) format('woff');}.material-icons{font-family:'Material Icons';font-weight:normal;font-style:normal;font-size:24px;line-height:1;letter-spacing:normal;text-transform:none;display:inline-block;white-space:nowrap;word-wrap:normal;direction:ltr;font-feature-settings:'liga';}@font-face{font-family:'Material Icons';font-style:normal;font-weight:400;src:url(https://fonts.gstatic.com/s/materialicons/v125/flUhRq6tzZclQEJ-Vdg-IuiaDsNcIhQ8tQ.woff2) format('woff2');}.material-icons{font-family:'Material Icons';font-weight:normal;font-style:normal;font-size:24px;line-height:1;letter-spacing:normal;text-transform:none;display:inline-block;white-space:nowrap;word-wrap:normal;direction:ltr;-webkit-font-feature-settings:'liga';-webkit-font-smoothing:antialiased;}</style>\n",
            "    <style type=\"text/css\">@font-face{font-family:'Material Icons Outlined';font-style:normal;font-weight:400;src:url(https://fonts.gstatic.com/s/materialiconsoutlined/v100/gok-H7zzDkdnRel8-DQ6KAXJ69wP1tGnf4ZGhUcY.woff) format('woff');}.material-icons-outlined{font-family:'Material Icons Outlined';font-weight:normal;font-style:normal;font-size:24px;line-height:1;letter-spacing:normal;text-transform:none;display:inline-block;white-space:nowrap;word-wrap:normal;direction:ltr;font-feature-settings:'liga';}@font-face{font-family:'Material Icons Outlined';font-style:normal;font-weight:400;src:url(https://fonts.gstatic.com/s/materialiconsoutlined/v100/gok-H7zzDkdnRel8-DQ6KAXJ69wP1tGnf4ZGhUcel5euIg.woff2) format('woff2');}.material-icons-outlined{font-family:'Material Icons Outlined';font-weight:normal;font-style:normal;font-size:24px;line-height:1;letter-spacing:normal;text-transform:none;display:inline-block;white-space:nowrap;word-wrap:normal;direction:ltr;-webkit-font-feature-settings:'liga';-webkit-font-smoothing:antialiased;}</style>\n",
            "    <meta name=\"theme-color\" content=\"#1976d2\"/>\n",
            "    <!-- Global site tag (gtag.js) - Google Analytics -->\n",
            "    <script async=\"\" src=\"https://www.googletagmanager.com/gtag/js?id=UA-17492803-4\"></script>\n",
            "    <script>\n",
            "      window.dataLayer = window.dataLayer || []\n",
            "      function gtag() {\n",
            "        dataLayer.push(arguments)\n",
            "      }\n",
            "      gtag('js', new Date())\n",
            "      gtag('config', 'UA-17492803-4', {\n",
            "        cookie_flags: 'SameSite=None;Secure',\n",
            "        send_page_view: false,\n",
            "        anonymize_ip: true,\n",
            "        sample_rate: 100,\n",
            "      })\n",
            "    </script>\n",
            "    <script>\n",
            "      ;(function (h, o, t, j, a, r) {\n",
            "        h.hj =\n",
            "          h.hj ||\n",
            "          function () {\n",
            "            ;(h.hj.q = h.hj.q || []).push(arguments)\n",
            "          }\n",
            "        h._hjSettings = { hjid:1220063, hjsv: 6 }\n",
            "        a = o.getElementsByTagName('head')[0]\n",
            "        r = o.createElement('script')\n",
            "        r.async = 1\n",
            "        r.src = t + h._hjSettings.hjid + j + h._hjSettings.hjsv\n",
            "        a.appendChild(r)\n",
            "      })(window, document, 'https://static.hotjar.com/c/hotjar-', '.js?sv=')\n",
            "    </script>\n",
            "    <script id=\"ze-snippet\" src=\"https://static.zdassets.com/ekr/snippet.js?key=b8313acd-6439-4894-b431-8c5a2ae9e7cb\"></script>\n",
            "    <script src=\"//fast.appcues.com/107479.js\"></script>\n",
            "  <link rel=\"stylesheet\" href=\"styles.5f7ee63b0d60df4cd0d3.css\" crossorigin=\"use-credentials\"></head>\n",
            "  <body>\n",
            "    <app-root> </app-root>\n",
            "    <noscript>Please enable JavaScript to continue using this application.</noscript>\n",
            "  <script src=\"runtime-es2015.e6311b00e17496a59b6a-en.js\" crossorigin=\"use-credentials\" type=\"module\"></script><script src=\"runtime-es5.e6311b00e17496a59b6a-en.js\" crossorigin=\"use-credentials\" nomodule=\"\" defer=\"\"></script><script src=\"polyfills-es5.282bedd7049b3f6056cf-en.js\" crossorigin=\"use-credentials\" nomodule=\"\" defer=\"\"></script><script src=\"polyfills-es2015.cb94922abbffd95d3a14-en.js\" crossorigin=\"use-credentials\" type=\"module\"></script><script src=\"main-es2015.a5fc811ff4eda4cbc3c6-en.js\" crossorigin=\"use-credentials\" type=\"module\"></script><script src=\"main-es5.a5fc811ff4eda4cbc3c6-en.js\" crossorigin=\"use-credentials\" nomodule=\"\" defer=\"\"></script></body>\n",
            "</html>\n",
            "<!--!!-->\n",
            "<!--en-production 2022-02-27T04:26:38.173Z-->\n",
            "<!--08397937bc/release-2.9.31-->\n",
            "\n"
          ]
        }
      ]
    },
    {
      "cell_type": "code",
      "source": [
        "\n",
        "def affiliated_univ(DOI):\n",
        "  response = requests.get('https://pubmed.ncbi.nlm.nih.gov/?term='+str(DOI))\n",
        "  soup = BeautifulSoup(response.content, 'html.parser')\n",
        "  soup.find_all('li', {\"data-affiliation-id\": \"affiliation-1\"})\n",
        "\n",
        "  for text in soup.find_all('li', {\"data-affiliation-id\": \"affiliation-1\"}):\n",
        "    affiliation=text.text[2:]\n",
        "    break\n",
        "  return affiliation"
      ],
      "metadata": {
        "id": "xxO4hefPJwq3"
      },
      "execution_count": null,
      "outputs": []
    },
    {
      "cell_type": "code",
      "source": [
        "import requests\n",
        "from bs4 import BeautifulSoup\n",
        "\n",
        "\n",
        "response = requests.get('https://journals.plos.org/plosone/article/authors?id=10.1371/journal.pone.0069485')\n",
        "soup = BeautifulSoup(response.content, 'html.parser')\n",
        "\n",
        "x=soup.find(\"meta\",{\"name\":\"citation_author_institution\"})\n",
        "\n",
        "print(x['content'])"
      ],
      "metadata": {
        "colab": {
          "base_uri": "https://localhost:8080/"
        },
        "id": "SNhNqKeO2pqY",
        "outputId": "8f109ca1-b245-4e9d-d7f2-62b5ca33bc9f"
      },
      "execution_count": null,
      "outputs": [
        {
          "output_type": "stream",
          "name": "stdout",
          "text": [
            "Department of Biochemistry and Molecular Biology, Bengbu Medical College, Bengbu, Anhui, China\n"
          ]
        }
      ]
    },
    {
      "cell_type": "code",
      "source": [
        "#better function using both pubmed and plos one\n",
        "def affiliated_univ(DOI):\n",
        "  try:\n",
        "    response = requests.get('https://journals.plos.org/plosone/article/authors?id='+str(DOI))\n",
        "    soup = BeautifulSoup(response.content, 'html.parser')\n",
        "    affiliation=soup.find(\"meta\",{\"name\":\"citation_author_institution\"})\n",
        "    return affiliation['content']\n",
        "  except:\n",
        "    response = requests.get('https://pubmed.ncbi.nlm.nih.gov/?term='+str(DOI))\n",
        "    soup = BeautifulSoup(response.content, 'html.parser')\n",
        "    soup.find_all('li', {\"data-affiliation-id\": \"affiliation-1\"})\n",
        "\n",
        "    for text in soup.find_all('li', {\"data-affiliation-id\": \"affiliation-1\"}):\n",
        "      affiliation=text.text[2:]\n",
        "      break\n",
        "    return affiliation"
      ],
      "metadata": {
        "id": "zk7z3BWI2fL4"
      },
      "execution_count": null,
      "outputs": []
    },
    {
      "cell_type": "code",
      "source": [
        "affiliated_univ('10.1016/j.cyto.2012.05.021')"
      ],
      "metadata": {
        "colab": {
          "base_uri": "https://localhost:8080/",
          "height": 52
        },
        "id": "tZmX1pWhG1KL",
        "outputId": "d6ac17af-adf8-4f4e-b2c2-96c3f10a2c8d"
      },
      "execution_count": null,
      "outputs": [
        {
          "output_type": "execute_result",
          "data": {
            "application/vnd.google.colaboratory.intrinsic+json": {
              "type": "string"
            },
            "text/plain": [
              "'Department of Preventive and Social Dentistry, School of Dentistry, Institute of Oral Biology, Kyung Hee University, Seoul, Republic of Korea.'"
            ]
          },
          "metadata": {},
          "execution_count": 4
        }
      ]
    },
    {
      "cell_type": "code",
      "source": [
        "#affiliation list has a list of the affiliated universities. contains 'None' if there is no info on that-- keep \n",
        "#note: this took 20 munites to run D:\n",
        "import pandas as pd\n",
        "\n",
        "df = pd.read_csv(\"Bik dataset - papers with endpoint reached.tsv\", sep='\\t', encoding = \"ISO-8859-1\")\n",
        "journal_link = df['DOI'][54:58]\n",
        "affiliation_list=[]\n",
        "\n",
        "for doi in journal_link:\n",
        "  print(affiliated_univ(doi))\n",
        "  if affiliated_univ(doi) is None:\n",
        "    affiliation_list.append('None')\n",
        "  else:\n",
        "    affiliation_list.append(affiliated_univ(doi))\n",
        "print(affiliation_list)\n"
      ],
      "metadata": {
        "id": "g1ssb3t0KJj2",
        "colab": {
          "base_uri": "https://localhost:8080/"
        },
        "outputId": "a20f99a0-1de8-4c2f-8344-b2a539e4df29"
      },
      "execution_count": null,
      "outputs": [
        {
          "output_type": "stream",
          "name": "stdout",
          "text": [
            "None\n",
            "Department of Oral and Molecular Microbiology, Osaka University Graduate School of Dentistry, 1-8 Yamadaoka, Japan. okahashi@dent.osaka-u.ac.jp\n",
            "None\n",
            "None\n",
            "['None', 'Department of Oral and Molecular Microbiology, Osaka University Graduate School of Dentistry, 1-8 Yamadaoka, Japan. okahashi@dent.osaka-u.ac.jp', 'None', 'None']\n"
          ]
        }
      ]
    },
    {
      "cell_type": "code",
      "source": [
        "len(affiliation_list)"
      ],
      "metadata": {
        "colab": {
          "base_uri": "https://localhost:8080/"
        },
        "id": "oUS-rlcoPbet",
        "outputId": "f1f1e5e5-e59e-4e58-c786-bba323f29433"
      },
      "execution_count": null,
      "outputs": [
        {
          "output_type": "execute_result",
          "data": {
            "text/plain": [
              "4"
            ]
          },
          "metadata": {},
          "execution_count": 7
        }
      ]
    },
    {
      "cell_type": "code",
      "source": [
        "affiliated_univ('10.1371/journal.pone.0069583')"
      ],
      "metadata": {
        "colab": {
          "base_uri": "https://localhost:8080/",
          "height": 35
        },
        "id": "QpoTHadBa__D",
        "outputId": "76bb836a-f354-4296-fa94-4dd464ec3129"
      },
      "execution_count": null,
      "outputs": [
        {
          "output_type": "execute_result",
          "data": {
            "application/vnd.google.colaboratory.intrinsic+json": {
              "type": "string"
            },
            "text/plain": [
              "'Department of Neurology, The Agnes Ginges Center for Human Neurogenetics, Hadassah University Hospital, Jerusalem, Israel.'"
            ]
          },
          "metadata": {},
          "execution_count": 33
        }
      ]
    },
    {
      "cell_type": "code",
      "source": [
        "df = pd.read_csv(\"Bik dataset - papers with endpoint reached.tsv\", sep='\\t',encoding = \"ISO-8859-1\", nrows=214)\n",
        "all_authors = df['Authors'].tolist()"
      ],
      "metadata": {
        "id": "5RWeC2oLE-5T"
      },
      "execution_count": null,
      "outputs": []
    },
    {
      "cell_type": "code",
      "source": [
        "# Finding the highest degree obtained from research gate\n",
        "\n",
        "degrees = ['phd', 'dphil', 'doctor of philosophy', 'doctor of engineering', 'doctor', 'ph.d', 'ph.d.', 'dba', 'masters', 'ms', 'msc']\n",
        "\n",
        "def get_highest_degree(author_name):\n",
        "    link = ''\n",
        "    query = author_name + ' Research Gate'\n",
        "    for k in search(query, stop=1):\n",
        "        if 'https://www.researchgate.net/profile/' in k:\n",
        "            link = k\n",
        "            response = requests.get(link)\n",
        "            soup = BeautifulSoup(response.content, 'html.parser')\n",
        "            print(soup.find_all('title'))\n",
        "            if len(soup.find_all('title')) == 0:\n",
        "                return -1\n",
        "            listofattributes = soup.find_all('title')[0].getText().split('|')\n",
        "            for word in listofattributes:\n",
        "                if word.strip().lower() in degrees:\n",
        "                    return word.strip()\n",
        "                if 'phd' in word.strip().lower():\n",
        "                    return 'PhD'\n",
        "    return -1"
      ],
      "metadata": {
        "id": "YPciqFjsEpZV"
      },
      "execution_count": null,
      "outputs": []
    },
    {
      "cell_type": "code",
      "source": [
        "author_list = [x.split(',')[0] for x in all_authors]\n",
        "highest_degree = []\n",
        "for author_name in author_list:\n",
        "    degree = get_highest_degree(author_name)\n",
        "    # print((author_name, degree)) \n",
        "    highest_degree.append(degree)"
      ],
      "metadata": {
        "colab": {
          "base_uri": "https://localhost:8080/"
        },
        "id": "gn4CVzvCEvlQ",
        "outputId": "fc0523d0-bcfd-4304-bdba-f7bac8aa2cb8"
      },
      "execution_count": null,
      "outputs": [
        {
          "output_type": "stream",
          "name": "stdout",
          "text": [
            "('Inka Regine Weingaertner', -1)\n",
            "('Jessica M. Esparza', -1)\n",
            "('Sreedevi Avasarala', -1)\n",
            "('Rounak Nassirpour', -1)\n",
            "[<title>Please Wait... | Cloudflare</title>]\n",
            "('Jianuo Liu', -1)\n",
            "[<title>Please Wait... | Cloudflare</title>]\n",
            "('Yang Wang', -1)\n",
            "[<title>Please Wait... | Cloudflare</title>]\n",
            "('Elizabeth Ngoc Hoa Tran', -1)\n",
            "[<title>Please Wait... | Cloudflare</title>]\n",
            "('Fabio Sallustio', -1)\n",
            "('Jia Ma', -1)\n",
            "[<title>Please Wait... | Cloudflare</title>]\n",
            "('Yael Friedman-Levi', -1)\n",
            "[<title>Please Wait... | Cloudflare</title>]\n",
            "('Yan Zhang', -1)\n",
            "('Zhongpu Chen', -1)\n",
            "[<title>Please Wait... | Cloudflare</title>]\n",
            "('Akrem Abdulsid', -1)\n",
            "('Fang Liu', -1)\n",
            "('Jagannath Misra', -1)\n",
            "[<title>Please Wait... | Cloudflare</title>]\n",
            "('Trent Fowler', -1)\n",
            "[<title>Please Wait... | Cloudflare</title>]\n",
            "('Mojca Jez', -1)\n",
            "('Zhenni Zhang', -1)\n",
            "[<title>Please Wait... | Cloudflare</title>]\n",
            "('Christophe Broca', -1)\n",
            "[<title>Please Wait... | Cloudflare</title>]\n",
            "('Sylwia Flis', -1)\n",
            "[<title>Please Wait... | Cloudflare</title>]\n",
            "('Takaharu Nakayoshi', -1)\n",
            "[<title>Please Wait... | Cloudflare</title>]\n",
            "('Yuri Churin', -1)\n",
            "[<title>Please Wait... | Cloudflare</title>]\n",
            "('Chuan Li', -1)\n",
            "('Gail Doughton', -1)\n",
            "[<title>Please Wait... | Cloudflare</title>]\n",
            "('Liliana O. Rocha', -1)\n",
            "('Prabuddha Dey', -1)\n",
            "[<title>Please Wait... | Cloudflare</title>]\n",
            "('Xiaomei Ge', -1)\n",
            "[<title>Please Wait... | Cloudflare</title>]\n",
            "('Xudong Shi', -1)\n",
            "('Yushen Jiang', -1)\n",
            "('Ambrish Kumar', -1)\n",
            "('Bo Gao', -1)\n",
            "[<title>Please Wait... | Cloudflare</title>]\n",
            "('Yang Liu', -1)\n",
            "[<title>Please Wait... | Cloudflare</title>]\n",
            "('Manasa K. Nayak', -1)\n",
            "[<title>Please Wait... | Cloudflare</title>]\n",
            "('Wasia Rizwani', -1)\n",
            "('Shiuan Wang', -1)\n",
            "('Apiruck Watthanasurorot', -1)\n",
            "('Dawn E. Watkins-Chow', -1)\n",
            "[<title>Please Wait... | Cloudflare</title>]\n",
            "('Erica P. Homan', -1)\n",
            "('Natalia Lopez-del Hoyo', -1)\n",
            "('Cathleen D. Valentine', -1)\n",
            "('Shipan Dai', -1)\n",
            "[<title>Please Wait... | Cloudflare</title>]\n",
            "('Vicente Ram�rez', -1)\n",
            "('Haitao Wei', -1)\n",
            "[<title>Please Wait... | Cloudflare</title>]\n",
            "('Meleri Jones', -1)\n",
            "[<title>Please Wait... | Cloudflare</title>]\n",
            "('Miti Jearaphunt', -1)\n",
            "('Niyas Kudukkil Pulloor', -1)\n",
            "('Verity G. Kew', -1)\n",
            "('Michelle Khai Khun Yap', -1)\n",
            "('Jianming Chen', -1)\n",
            "[<title>Please Wait... | Cloudflare</title>]\n",
            "('Doblin Sandai', -1)\n"
          ]
        }
      ]
    },
    {
      "cell_type": "code",
      "source": [
        "# Finding the area of highest degree obtained from research gate\n",
        "\n",
        "def get_degree_area(author_name):\n",
        "    link = ''\n",
        "    query = author_name + ' Research Gate'\n",
        "    for k in search(query, stop=1):\n",
        "        if 'https://www.researchgate.net/profile/' in k:\n",
        "            link = k\n",
        "            response = requests.get(link)\n",
        "            soup = BeautifulSoup(response.content, 'html.parser')\n",
        "            if len(soup.find_all('title')) == 0:\n",
        "                return -1\n",
        "            listofattributes = soup.find_all('title')[0].getText().split('|')\n",
        "            for word in listofattributes:\n",
        "                if 'department of' in word.strip().lower():\n",
        "                    return word.split('of')[1].strip()\n",
        "    return -1"
      ],
      "metadata": {
        "id": "C9EGQoRxR2Td"
      },
      "execution_count": null,
      "outputs": []
    },
    {
      "cell_type": "code",
      "source": [
        "degree_area = []\n",
        "for author_name in author_list:\n",
        "    area = get_degree_area(author_name)\n",
        "    # print((author_name, area))\n",
        "    degree_area.append(area)"
      ],
      "metadata": {
        "id": "F024SC0lR13j"
      },
      "execution_count": null,
      "outputs": []
    },
    {
      "cell_type": "code",
      "source": [
        "#Function for lab size just using plos one --> keep\n",
        "def lab_size(DOI):\n",
        "    response = requests.get('https://journals.plos.org/plosone/article/authors?id='+str(DOI))\n",
        "    soup = BeautifulSoup(response.content, 'html.parser')\n",
        "    affiliation=soup.find_all(\"meta\",{\"name\":\"citation_author_institution\"})\n",
        "    univ_list=[]\n",
        "    for element in affiliation:\n",
        "        univ_list.append(element['content'])\n",
        "    for element in univ_list[1:]:\n",
        "        if element != univ_list[0]:\n",
        "            univ_list.remove(element)\n",
        "    return len(univ_list)"
      ],
      "metadata": {
        "id": "QpLFawkCIAfc"
      },
      "execution_count": null,
      "outputs": []
    },
    {
      "cell_type": "code",
      "source": [
        "#both\n",
        "df = pd.read_csv(\"Bik dataset - papers with endpoint reached.tsv\", sep='\\t',encoding = \"ISO-8859-1\", nrows=214)\n",
        "journal_link = df['DOI']\n",
        "lab_size_list=[]\n",
        "\n",
        "for doi in journal_link:\n",
        "    try:\n",
        "        lab_size_list.append(lab_size(doi))\n",
        "    except:\n",
        "        lab_size_list.append('N/A')\n"
      ],
      "metadata": {
        "id": "0JMS3TxvRPwM"
      },
      "execution_count": null,
      "outputs": []
    },
    {
      "cell_type": "code",
      "source": [
        "#replace all the 0s with total numebr of authors\n",
        "df = pd.read_csv(\"Bik dataset - papers with endpoint reached.tsv\", sep='\\t',encoding = \"ISO-8859-1\", nrows=214)\n",
        "all_authors = df['Authors'].tolist()\n",
        "\n",
        "lab_size_list_revised=[]\n",
        "\n",
        "for index in range(len(lab_size_list)):\n",
        "    if lab_size_list[index] != 0:\n",
        "        lab_size_list_revised.append(lab_size_list[index])\n",
        "    else:\n",
        "        author_list = list(all_authors[index].split(','))\n",
        "        lab_size_list_revised.append(len(author_list))\n",
        "\n",
        "print(lab_size_list_revised)"
      ],
      "metadata": {
        "colab": {
          "base_uri": "https://localhost:8080/",
          "height": 242
        },
        "id": "yX_P6_8JmUAu",
        "outputId": "15cab786-5566-458d-9e92-b61d5ef132a7"
      },
      "execution_count": null,
      "outputs": [
        {
          "output_type": "error",
          "ename": "NameError",
          "evalue": "ignored",
          "traceback": [
            "\u001b[0;31m---------------------------------------------------------------------------\u001b[0m",
            "\u001b[0;31mNameError\u001b[0m                                 Traceback (most recent call last)",
            "\u001b[0;32m<ipython-input-2-fd337dbe4991>\u001b[0m in \u001b[0;36m<module>\u001b[0;34m()\u001b[0m\n\u001b[1;32m      1\u001b[0m \u001b[0;31m#replace all the 0s with total numebr of authors\u001b[0m\u001b[0;34m\u001b[0m\u001b[0;34m\u001b[0m\u001b[0;34m\u001b[0m\u001b[0m\n\u001b[0;32m----> 2\u001b[0;31m \u001b[0mdf\u001b[0m \u001b[0;34m=\u001b[0m \u001b[0mpd\u001b[0m\u001b[0;34m.\u001b[0m\u001b[0mread_csv\u001b[0m\u001b[0;34m(\u001b[0m\u001b[0;34m\"Bik dataset - papers with endpoint reached.tsv\"\u001b[0m\u001b[0;34m,\u001b[0m \u001b[0msep\u001b[0m\u001b[0;34m=\u001b[0m\u001b[0;34m'\\t'\u001b[0m\u001b[0;34m,\u001b[0m\u001b[0mencoding\u001b[0m \u001b[0;34m=\u001b[0m \u001b[0;34m\"ISO-8859-1\"\u001b[0m\u001b[0;34m,\u001b[0m \u001b[0mnrows\u001b[0m\u001b[0;34m=\u001b[0m\u001b[0;36m214\u001b[0m\u001b[0;34m)\u001b[0m\u001b[0;34m\u001b[0m\u001b[0;34m\u001b[0m\u001b[0m\n\u001b[0m\u001b[1;32m      3\u001b[0m \u001b[0mall_authors\u001b[0m \u001b[0;34m=\u001b[0m \u001b[0mdf\u001b[0m\u001b[0;34m[\u001b[0m\u001b[0;34m'Authors'\u001b[0m\u001b[0;34m]\u001b[0m\u001b[0;34m.\u001b[0m\u001b[0mtolist\u001b[0m\u001b[0;34m(\u001b[0m\u001b[0;34m)\u001b[0m\u001b[0;34m\u001b[0m\u001b[0;34m\u001b[0m\u001b[0m\n\u001b[1;32m      4\u001b[0m \u001b[0;34m\u001b[0m\u001b[0m\n\u001b[1;32m      5\u001b[0m \u001b[0mlab_size_list_revised\u001b[0m\u001b[0;34m=\u001b[0m\u001b[0;34m[\u001b[0m\u001b[0;34m]\u001b[0m\u001b[0;34m\u001b[0m\u001b[0;34m\u001b[0m\u001b[0m\n",
            "\u001b[0;31mNameError\u001b[0m: name 'pd' is not defined"
          ]
        }
      ]
    }
  ]
}